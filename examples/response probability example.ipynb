{
 "cells": [
  {
   "cell_type": "markdown",
   "metadata": {},
   "source": [
    "##This is a minimal example for testing what the probability of a stimulus response PSTH having come from the distribution of baseline activity.\n",
    "\n",
    "So you have a small number, <i>n</i>, of stimulus trial examples , and a large number of baseline examples. If you draw a large number (100,000) <i>n</i> examples from the baseline distribution, what percentage of those draws has a equal or higher firing rate than the stimulus mean for each bin?"
   ]
  },
  {
   "cell_type": "code",
   "execution_count": null,
   "metadata": {
    "collapsed": true
   },
   "outputs": [],
   "source": [
    "# initialize ipython \"cluster\" first.\n",
    "# this connects client to the cluster workers.\n",
    "\n",
    "from IPython.parallel import Client\n",
    "C = Client(profile='default')\n",
    "lbv = C.load_balanced_view()"
   ]
  },
  {
   "cell_type": "code",
   "execution_count": 1,
   "metadata": {
    "collapsed": true
   },
   "outputs": [],
   "source": [
    "# I'm defining the draw_and_mean as a nested function here because\n",
    "\n",
    "def parfunc(rec_clu_tuple):\n",
    "    from ephys_tools.analysis import laser_analysis as la\n",
    "    import numpy as np\n",
    "    \n",
    "    def draw_and_mean(spike_array, n_bs, n_trials):\n",
    "        # draw= np.empty_like(bl_sa)\n",
    "        draw_indexes = np.random.randint(0, bl_sa.shape[1]-1, (n_bs, n_trials))\n",
    "        psths = np.empty((n_bs, spike_array.shape[0]))\n",
    "        for i in xrange(n_bs):\n",
    "            draw_is = draw_indexes[i]\n",
    "            draw = spike_array[:, draw_is]\n",
    "            psths[i, :] = draw.mean(axis=1)\n",
    "        return psths\n",
    "    \n",
    "    rec, clu = rec_clu_tuple # unpack rec and clu names.\n",
    "    \n",
    "    sa, _ = la.get_laser_train_psth_by_trial(rec, clu, \n",
    "                                             1, n_pulses=4, time_window_ms=100, pre_pad_ms=0, baseline_nsniffs=7)\n",
    "    \"\"\"\n",
    "    sa is a tuple of two spike arrays: (stimulus_spike_array, baseline_spike_array)\n",
    "    spike arrays are each numpy.array of shape (n_bins, n_trials) (for baseline it's actually n_sniffs instead of trials)\n",
    "    spike arrays here are normalized (Hz).\n",
    "    \"\"\"\n",
    "    \n",
    "    stimulus_sa, baseline_sa = sa  #unpack tuple.\n",
    "    \n",
    "    response_mean = stimulus_sa.mean(axis=1)\n",
    "    baseline_sa = sa[1]\n",
    "    ntr = len(stimulus_sa) # number of trials in stimulus.\n",
    "    baseline_boot = draw_and_mean(baseline_sa, 100000, ntr)\n",
    "\n",
    "    ps = np.empty_like(response_mean)\n",
    "    for j in xrange(len(response_mean)):\n",
    "        r = response_mean[j]\n",
    "        base = baseline_boot[:, j]\n",
    "    #     print base.shape\n",
    "        p = np.sum(base >= r) / len(base)\n",
    "        ps[j] = p\n",
    "    ps = np.asarray(ps)\n",
    "    \n",
    "\n",
    "    \n",
    "    return ps"
   ]
  },
  {
   "cell_type": "code",
   "execution_count": null,
   "metadata": {
    "collapsed": true
   },
   "outputs": [],
   "source": [
    "\"\"\"all_rec_names is a list of \"\"\"\n",
    "\n",
    "rec_clu_tuples = [('rec1', 'clu1'),\n",
    "                  ('rec1', 'clu2'),\n",
    "                  ('recN', 'cluN')]\n",
    "\n",
    "ps = lbv.map_sync(parfunc, rec_clu_tuples)\n",
    "\n",
    "\n",
    "\"\"\"returns a list of probability arrays\"\"\""
   ]
  }
 ],
 "metadata": {
  "kernelspec": {
   "display_name": "Python 2",
   "language": "python",
   "name": "python2"
  },
  "language_info": {
   "codemirror_mode": {
    "name": "ipython",
    "version": 2
   },
   "file_extension": ".py",
   "mimetype": "text/x-python",
   "name": "python",
   "nbconvert_exporter": "python",
   "pygments_lexer": "ipython2",
   "version": "2.7.10"
  }
 },
 "nbformat": 4,
 "nbformat_minor": 0
}
